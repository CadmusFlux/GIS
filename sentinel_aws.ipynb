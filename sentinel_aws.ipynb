{
 "cells": [
  {
   "cell_type": "markdown",
   "source": "# Pre-requisites\n    1. Mount your G-drive to this notebook.\n    2. Manually create this file-structure in your G-drive. 'MyDrive/Sentinel-2/' (MyDrive is the home location).\n    3. Run the script and grab a coffee while it executes.",
   "metadata": {
    "tags": [],
    "cell_id": "00000-4c7ece3f-3ea9-4ace-af80-2d7ce556ded1",
    "deepnote_cell_type": "markdown"
   }
  },
  {
   "cell_type": "code",
   "metadata": {
    "tags": [],
    "cell_id": "00000-c907a763-2361-40ab-89a0-29e2102c74ab",
    "deepnote_cell_type": "code"
   },
   "source": "from google.colab import drive\ndrive.mount('/content/drive')",
   "execution_count": null,
   "outputs": []
  },
  {
   "cell_type": "code",
   "metadata": {
    "tags": [],
    "cell_id": "00000-cd7584d3-4636-43a0-864b-14a435c48b11",
    "deepnote_to_be_reexecuted": false,
    "source_hash": "24086335",
    "execution_start": 1628590402090,
    "execution_millis": 1430,
    "output_cleared": true,
    "id": "PDdPmVm3Vp0X",
    "deepnote_cell_type": "code"
   },
   "source": "import matplotlib.pyplot as plt\nfrom botocore.client import Config\nfrom botocore import UNSIGNED\nimport botocore\nimport boto3\nimport os",
   "execution_count": null,
   "outputs": []
  },
  {
   "cell_type": "code",
   "metadata": {
    "tags": [],
    "cell_id": "00005-8207a30d-091d-451a-9174-f14187a4269e",
    "deepnote_to_be_reexecuted": false,
    "source_hash": "f423170e",
    "execution_start": 1628590403533,
    "execution_millis": 793,
    "id": "H3UphysyVp0j",
    "deepnote_cell_type": "code"
   },
   "source": "s3 = boto3.client('s3',region_name='eu-central-1' ,config=Config(signature_version=UNSIGNED))",
   "execution_count": null,
   "outputs": []
  },
  {
   "cell_type": "markdown",
   "source": "### For Checking the tile name and size",
   "metadata": {
    "tags": [],
    "is_collapsed": false,
    "cell_id": "00007-552ccc4c-7e03-4926-8f38-7c33a898bbf3",
    "id": "TcL-dBYlVp0n",
    "deepnote_cell_type": "text-cell-h3"
   }
  },
  {
   "cell_type": "code",
   "metadata": {
    "tags": [],
    "cell_id": "00007-3d296ad5-07b4-40b8-8e56-c2e71458da92",
    "deepnote_to_be_reexecuted": false,
    "source_hash": "98bbc5f9",
    "execution_start": 1628590959501,
    "execution_millis": 4,
    "id": "HGGArntzVp0q",
    "deepnote_cell_type": "code"
   },
   "source": "def get_tiles(prefix):\n\n    tile = []\n    kwargs = {'Bucket':'sentinel-cogs','Prefix':prefix}\n    counter = 0\n    size = 0\n\n    while True:\n\n        tiles = s3.list_objects_v2(**kwargs)\n\n        for obj in tiles['Contents']:\n            tile.append(obj['Key'])\n            size += obj['Size'] \n\n        try:\n            kwargs['ContinuationToken'] = tiles['NextContinuationToken']\n\n        except KeyError:\n            break\n\n        counter += 1\n\n    return tile,size/(1000**3)",
   "execution_count": null,
   "outputs": []
  },
  {
   "cell_type": "code",
   "metadata": {
    "tags": [],
    "cell_id": "00008-87146d26-e123-43cd-8114-749ba6a62d63",
    "deepnote_to_be_reexecuted": false,
    "source_hash": "50ea9c9a",
    "execution_start": 1628590739354,
    "execution_millis": 1,
    "deepnote_cell_type": "code"
   },
   "source": "def check_dir(path):\n\n    directory = os.path.dirname(path)\n    if not os.path.exists(directory):\n        os.makedirs(directory)",
   "execution_count": null,
   "outputs": []
  },
  {
   "cell_type": "code",
   "metadata": {
    "tags": [],
    "cell_id": "00006-0c05d684-489b-4412-8a4c-cd8c3a3d26b2",
    "deepnote_cell_type": "code"
   },
   "source": "def sentinel_down(dl_path):\n\n  for month in months:\n\n    prefix = '/'.join([device,tile_no,single_letter,double_letter,year,month])\n    keys,size = get_tiles(prefix)\n    print(len(keys),size)\n\n    for i in range(len(keys)):\n\n        key_split = keys[i].split('/')\n\n        day = key_split[6].split('_')[2][-2:]\n        file_name = key_split[-1]\n        path_fol = '/'.join(key_split[1:6] +[day]+ [file_name])\n\n        check_dir(dl_path+path_fol+day) \n        if file_name[0] in 'B' or file_name[:3] in 'SCL':\n            s3.download_file('sentinel-cogs',keys[i],dl_path+path_fol)",
   "execution_count": null,
   "outputs": []
  },
  {
   "cell_type": "code",
   "metadata": {
    "tags": [],
    "cell_id": "00003-654132e2-ed77-40dd-99fd-9b3b02f2ba78",
    "deepnote_to_be_reexecuted": false,
    "source_hash": "c49fc36f",
    "execution_start": 1628579593380,
    "execution_millis": 5,
    "deepnote_cell_type": "code"
   },
   "source": "# '32/N/NK/2018'",
   "execution_count": null,
   "outputs": []
  },
  {
   "cell_type": "code",
   "metadata": {
    "tags": [],
    "cell_id": "00003-84287040-0ae6-469c-9441-704eea684e34",
    "deepnote_to_be_reexecuted": false,
    "source_hash": "a9a37693",
    "execution_start": 1628590957203,
    "execution_millis": 1,
    "deepnote_cell_type": "code"
   },
   "source": "dl_path = '/content/drive/MyDrive/Sentinel-2/'\ndevice = 'sentinel-s2-l2a-cogs'\ntile_no = '32'\nsingle_letter = 'N'\ndouble_letter = 'NK'\nyear = '2019'\nmonths = ['1/','2/','3/','4/','5/','6/','7/','8/','9/','10/','11/','12/']",
   "execution_count": null,
   "outputs": []
  },
  {
   "cell_type": "code",
   "metadata": {
    "tags": [],
    "cell_id": "00013-52b19526-1a21-41e6-8d58-08df079afa3d",
    "deepnote_to_be_reexecuted": false,
    "source_hash": "8e5d55a7",
    "execution_start": 1628592835588,
    "execution_millis": 3,
    "id": "_oqljjAvVp0t",
    "deepnote_cell_type": "code"
   },
   "source": "sentinel_down(dl_path)",
   "execution_count": null,
   "outputs": []
  },
  {
   "cell_type": "code",
   "metadata": {
    "tags": [],
    "cell_id": "00015-fdc8d164-e1c8-4528-8b27-1bf344c1b79e",
    "deepnote_to_be_reexecuted": false,
    "source_hash": "1a2642d2",
    "execution_start": 1627975704312,
    "execution_millis": 47693,
    "output_cleared": true,
    "id": "oPDZPYftVp0u",
    "deepnote_cell_type": "code"
   },
   "source": "# for j in range(len(keys)):\n#     img = plt.imread(dl_path+str(j)+'.tif')\n#     plt.imshow(img)\n#     plt.show()",
   "execution_count": null,
   "outputs": []
  },
  {
   "cell_type": "markdown",
   "source": "### Archive",
   "metadata": {
    "tags": [],
    "is_collapsed": false,
    "cell_id": "00011-82f19061-52f4-4695-a53f-61a7789664b7",
    "id": "9OAfAAFkVp0v",
    "deepnote_cell_type": "text-cell-h3"
   }
  },
  {
   "cell_type": "code",
   "metadata": {
    "tags": [],
    "cell_id": "00012-43caf655-b73d-44b6-8f45-3422a66d4136",
    "deepnote_to_be_reexecuted": false,
    "source_hash": "c0bbd0b3",
    "execution_start": 1627644007579,
    "execution_millis": 1,
    "id": "B3JvzkltVp0w",
    "is_code_hidden": true,
    "deepnote_cell_type": "code"
   },
   "source": "# import wget\n# path = 'http://sentinel-cogs.s3.amazonaws.com/sentinel-s2-l2a-cogs/1/C/CV/2019/10/S2B_1CCV_20191009_0_L2A/B02.tif'\n# ada = wget.download(path)\n\n# img = plt.imread('B02.tif')\n# plt.imshow(img)\n# plt.show()\n\n-----\n\n# s3.list_objects_v2(Bucket='sentinel-cogs',Prefix='sentinel-s2-l2a-cogs/31/P/BK/2017/1/S2A_31PBK_20170104_0_L2A/')\n\n-----\n\n# LEGACY\n# def get_s3_keys():\n\n#     keys = []\n#     resp = s3.list_objects_v2(Bucket='sentinel-cogs')\n\n#     for obj in resp['Contents']:\n#         keys.append(obj['Key'])\n\n\n-----\n\n# https://sentinelhub-py.readthedocs.io/en/latest/examples/aws_request.html\n# https://cloud.google.com/storage/docs/public-datasets/sentinel-2\n# https://medium.com/@anttilip/seeing-earth-from-space-from-raw-satellite-data-to-beautiful-high-resolution-images-feb522adfa3f\n# https://hatarilabs.com/ih-en/sentinel2-images-explotarion-and-processing-with-python-and-rasterio\n# https://console.cloud.google.com/storage/browser/_details/gcp-public-data-sentinel-2/L2/tiles/31/P/BL/S2A_MSIL2A_20181215T101421_N0211_R022_T31PBL_20181215T124427.SAFE/GRANULE/L2A_T31PBL_A018180_20181215T102133/IMG_DATA/R10m/T31PBL_20181215T101421_AOT_10m.jp2\n# https://geopyspark.readthedocs.io/en/latest/tutorials/reading-in-sentinel-data.html\n# https://sentinel.esa.int/web/sentinel/user-guides/sentinel-2-msi/naming-convention\n# https://alexwlchan.net/2017/07/listing-s3-keys/\n# https://docs.aws.amazon.com/AmazonS3/latest/userguide/access-bucket-intro.html\n# https://www.tandfonline.com/doi/full/10.1080/20964471.2017.1407489\n\n---------\n\n# def check_months():\n\n#     kwargs = {'Bucket':'sentinel-cogs'}\n#     months = []\n\n#     while True:\n\n#         tiles = s3.list_objects_v2(**kwargs)\n\n#         for obj in tiles['Contents']:\n\n#             key = obj['Key']\n#             for j in range(len(key)):\n#                 if key[j] == \"_\":\n#                     if key[j-11:j-9] == \"20\":\n#                         if int(key[j-11:j-7]) < 2017:\n#                             return months\n#                         # print(key[j-11:j-7])\n#                         # print(key[j-6:j-4])\n#                         if key[j-11:j-4].replace('/','_') not in months:\n#                             months.append(key[j-11:j-4].replace('/','_'))\n#                 else:\n#                     pass\n\n\n#         try:\n#             kwargs['ContinuationToken'] = tiles['NextContinuationToken']\n#         except KeyError:\n#             break\n\n#     return months",
   "execution_count": null,
   "outputs": []
  },
  {
   "cell_type": "markdown",
   "source": "<a style='text-decoration:none;line-height:16px;display:flex;color:#5B5B62;padding:10px;justify-content:end;' href='https://deepnote.com?utm_source=created-in-deepnote-cell&projectId=466b529a-bf9d-4bc0-89d5-4568539f132c' target=\"_blank\">\n<img alt='Created in deepnote.com' style='display:inline;max-height:16px;margin:0px;margin-right:7.5px;' src='data:image/svg+xml;base64,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' > </img>\nCreated in <span style='font-weight:600;margin-left:4px;'>Deepnote</span></a>",
   "metadata": {
    "tags": [],
    "created_in_deepnote_cell": true,
    "deepnote_cell_type": "markdown"
   }
  }
 ],
 "nbformat": 4,
 "nbformat_minor": 0,
 "metadata": {
  "orig_nbformat": 2,
  "deepnote": {
   "is_reactive": false
  },
  "deepnote_notebook_id": "c7760eb9-9fcf-45d6-b547-0fdb1d7b5c09",
  "deepnote_execution_queue": [],
  "colab": {
   "name": "sentinel_aws.ipynb",
   "provenance": []
  },
  "language_info": {
   "name": "python"
  },
  "kernelspec": {
   "name": "python3",
   "display_name": "Python 3"
  }
 }
}